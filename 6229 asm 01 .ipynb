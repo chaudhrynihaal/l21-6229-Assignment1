{
  "nbformat": 4,
  "nbformat_minor": 0,
  "metadata": {
    "colab": {
      "provenance": [],
      "collapsed_sections": []
    },
    "kernelspec": {
      "name": "python3",
      "display_name": "Python 3"
    },
    "language_info": {
      "name": "python"
    }
  },
  "cells": [
    {
      "cell_type": "markdown",
      "source": [
        "# Introduction To Data Science – Assignment 1\n",
        "\n",
        "---\n",
        "\n",
        "### Sections A – B – C – D\n",
        "\n",
        "---\n",
        "\n",
        "***Instructions***\n",
        "\n",
        "Due Date: Sunday 18th September 2022 – 11:59PM\n",
        "\n",
        "Name the file in the format Lyyxxxx and save it as .ipynb (e.g. L201234.ipynb)\n",
        "\n",
        "Submission will be taken on **GitHub and Google Classroom (submit the .ipynb file)** - Instructions to upload onto GitHub are provided in the link https://docs.google.com/document/d/1BR1ULOGeGWJVU6Rr6Qty1FR-quVRZyRvQGII6nEs-wo/edit?usp=sharing\n",
        "\n",
        "After uploading and submitting the .ipynb file onto Google Classroom, also private comment the link to the GitHub repository.\n",
        "\n",
        "All source files needed to complete this assignment can be found on the following Google Drive link https://drive.google.com/drive/folders/1VrkaVcExGWqilSeh50WZe4gUBjmUiJ9b?usp=sharing\n",
        "\n",
        "TA Emails\n",
        "\n",
        "Section A, C - Muhammad Maarij l192347@lhr.nu.edu.pk\n",
        "\n",
        "Section B, D - Hira Ijaz l192377@lhr.nu.edu.pk\n",
        "\n",
        "Happy Coding 😊\n",
        "\n",
        "---"
      ],
      "metadata": {
        "id": "TWWLTwYZorzC"
      }
    },
    {
      "cell_type": "markdown",
      "source": [
        "---\n",
        "## Question 1\n",
        "---"
      ],
      "metadata": {
        "id": "arB_0r9H0jjC"
      }
    },
    {
      "cell_type": "markdown",
      "source": [
        "Define a procedure called \"check_input\" that takes an input as a square list of lists (2D Matrix of N x N) and returns a boolen \"true\" if the input is valid or \"false\" otherwise, according to the following criteria.\n",
        "\n",
        "1. Each coloumn must contain numbers from between 1 and N, with no duplicates.\n",
        "2. Each row must contain numbers from between 1 and N, with no duplicates."
      ],
      "metadata": {
        "id": "qHPTNDy30n99"
      }
    },
    {
      "cell_type": "code",
      "source": [
        "def check_input(arr):\n",
        "    n = len(arr)\n",
        "    for i in range(n):\n",
        "        for j in range(n):\n",
        "            if isinstance(arr[i][j], int):\n",
        "                continue;\n",
        "            else:\n",
        "                return False\n",
        "    # colomns and rows check respectivly\n",
        "    for i in range(n):\n",
        "        for j in range(n):\n",
        "            temp = arr[j][i]\n",
        "            for k in range(n):\n",
        "                if temp == arr[k][i] and k != j:\n",
        "                    return False\n",
        "                else:\n",
        "                    continue\n",
        "\n",
        "    for i in range(n):\n",
        "        for j in range(n):\n",
        "            temp = arr[i][j]\n",
        "            for k in range(n):\n",
        "                if temp == arr[i][k] & k != j:\n",
        "                    return False\n",
        "                else:\n",
        "                    return True"
      ],
      "metadata": {
        "id": "S2_Zic322Lt7"
      },
      "execution_count": null,
      "outputs": []
    },
    {
      "cell_type": "code",
      "source": [
        "# run this block to test code after defining the procedure\n",
        "\n",
        "test1 = [[1, 2, 3],\n",
        "        [2, 3, 1],\n",
        "        [3, 1, 2]]\n",
        "\n",
        "test2 = [[1, 2, 3, 4],\n",
        "        [2, 3, 1, 3],\n",
        "        [3, 1, 2, 3],\n",
        "        [4, 4, 4, 4]]\n",
        "\n",
        "test3 = [['a', 'b', 'c'],\n",
        "        ['b', 'c', 'a'],\n",
        "        ['c', 'a', 'b']]\n",
        "\n",
        "print(check_input(test1)) # must return true\n",
        "print(check_input(test2)) # must return false\n",
        "print(check_input(test3)) # must return false"
      ],
      "metadata": {
        "id": "wdL9MWgq2ZbP"
      },
      "execution_count": null,
      "outputs": []
    },
    {
      "cell_type": "markdown",
      "source": [
        "---\n",
        "## Question 2\n",
        "---"
      ],
      "metadata": {
        "id": "4RVTlnhWqOUC"
      }
    },
    {
      "cell_type": "markdown",
      "source": [
        "**Part A** - Import the file \"StudentMarkSheet.csv\" as a Pandas DataFrame and print the information for the dataframe"
      ],
      "metadata": {
        "id": "Uyc7JPtNt0pR"
      }
    },
    {
      "cell_type": "code",
      "execution_count": null,
      "metadata": {
        "id": "wYrt7e6Xop2P"
      },
      "outputs": [],
      "source": [
        "import pandas\n",
        "import matplotlib.pyplot\n",
        "import numpy\n",
        "np=numpy\n",
        "plt=matplotlib.pyplot\n",
        "df=pandas\n",
        "pd=df.read_csv(\"StudentMarkSheet.csv\")\n",
        "print(pd.shape)\n",
        "print(pd.info())\n",
        "print(\"Number of rows are:\")\n",
        "var1=len(pd.index)\n",
        "print(var1)\n",
        "var2=pd.dropna()\n",
        "var3=len(var2.index)\n",
        "print(\"Number of rows after Dropping\")\n",
        "print(var3)\n",
        "print(pd.loc[pd['Student name']=='James Walker'])\n",
        "physics=pd[pd['Exam name']=='Physics']['Marks'].mean()\n",
        "print(\"physics\",physics)\n",
        "chemistry=pd[pd['Exam name']=='Chemistry']['Marks'].mean()\n",
        "print(\"chemistry\",chemistry)\n",
        "biology=pd[pd['Exam name']=='Biology']['Marks'].mean()\n",
        "print(\"biology\",biology)\n",
        "philosophy=pd[pd['Exam name']=='Philosophy']['Marks'].mean()\n",
        "print(\"philosophy\",philosophy)\n",
        "math=pd[pd['Exam name']=='Mathematics']['Marks'].mean()\n",
        "print(\"Mathematics\",math)\n",
        "sociology=pd[pd['Exam name']=='Sociology']['Marks'].mean()\n",
        "print(\"Sociology\",sociology)\n",
        "var1=np.array([\"mathematics\",\"physics\",\"chemistry\",\"biology\",\"philosophy\",\"sociology\",\"total\"])\n",
        "var2=np.array([math,physics,chemistry,biology,philosophy,sociology,100])\n",
        "plt.bar(var1,var2)\n",
        "plt.title(\"Average marks\")\n",
        "plt.show()"
      ]
    },
    {
      "cell_type": "markdown",
      "source": [
        "**Part B** - Remove any rows that do not contain all the data. Also print the following information.\n",
        "\n",
        "1. Number of rows before\n",
        "2. Number of rows containing null data\n",
        "3. Number of rows after"
      ],
      "metadata": {
        "id": "jIaMvgcft_i0"
      }
    },
    {
      "cell_type": "code",
      "source": [],
      "metadata": {
        "id": "_ov_SWdxuZUm"
      },
      "execution_count": null,
      "outputs": []
    },
    {
      "cell_type": "markdown",
      "source": [
        "**Part C** - Print all the marks along with the subject for the student named \"James Walker\""
      ],
      "metadata": {
        "id": "2kd9zAX6wkXM"
      }
    },
    {
      "cell_type": "code",
      "source": [],
      "metadata": {
        "id": "N0HWJN-PwuSo"
      },
      "execution_count": null,
      "outputs": []
    },
    {
      "cell_type": "markdown",
      "source": [
        "---\n",
        "## Question 3\n",
        "---"
      ],
      "metadata": {
        "id": "ts8Y1EXmwzhf"
      }
    },
    {
      "cell_type": "markdown",
      "source": [
        "**Part A** - From the DataFrame created in Question 2, calculate the average marks for each subject"
      ],
      "metadata": {
        "id": "PJENm_hpw3GQ"
      }
    },
    {
      "cell_type": "code",
      "source": [
        "import pandas\n",
        "import matplotlib.pyplot\n",
        "import numpy\n",
        "np=numpy\n",
        "plt=matplotlib.pyplot\n",
        "df=pandas\n",
        "pd=df.read_csv(\"StudentMarkSheet.csv\")\n",
        "print(pd.shape)\n",
        "print(pd.info())\n",
        "print(\"Number of rows are:\")\n",
        "var1=len(pd.index)\n",
        "print(var1)\n",
        "var2=pd.dropna()\n",
        "var3=len(var2.index)\n",
        "print(\"Number of rows after Dropping\")\n",
        "print(var3)\n",
        "print(pd.loc[pd['Student name']=='James Walker'])\n",
        "physics=pd[pd['Exam name']=='Physics']['Marks'].mean()\n",
        "print(\"physics\",physics)\n",
        "chemistry=pd[pd['Exam name']=='Chemistry']['Marks'].mean()\n",
        "print(\"chemistry\",chemistry)\n",
        "biology=pd[pd['Exam name']=='Biology']['Marks'].mean()\n",
        "print(\"biology\",biology)\n",
        "philosophy=pd[pd['Exam name']=='Philosophy']['Marks'].mean()\n",
        "print(\"philosophy\",philosophy)\n",
        "math=pd[pd['Exam name']=='Mathematics']['Marks'].mean()\n",
        "print(\"Mathematics\",math)\n",
        "sociology=pd[pd['Exam name']=='Sociology']['Marks'].mean()\n",
        "print(\"Sociology\",sociology)\n",
        "var1=np.array([\"mathematics\",\"physics\",\"chemistry\",\"biology\",\"philosophy\",\"sociology\",\"total\"])\n",
        "var2=np.array([math,physics,chemistry,biology,philosophy,sociology,100])\n",
        "plt.bar(var1,var2)\n",
        "plt.title(\"Average marks\")\n",
        "plt.show()"
      ],
      "metadata": {
        "id": "AxhCtST5xS3L"
      },
      "execution_count": null,
      "outputs": []
    },
    {
      "cell_type": "markdown",
      "source": [
        "**Part B** - Using the averages you just calculated, plot a Bar Graph showing the average marks of each subject"
      ],
      "metadata": {
        "id": "NDlaA7hHxUBc"
      }
    },
    {
      "cell_type": "code",
      "source": [],
      "metadata": {
        "id": "LWoPFZBOyyNn"
      },
      "execution_count": null,
      "outputs": []
    },
    {
      "cell_type": "markdown",
      "source": [
        "---\n",
        "## Question 4\n",
        "---"
      ],
      "metadata": {
        "id": "dWlOSOIs6d1R"
      }
    },
    {
      "cell_type": "markdown",
      "source": [
        "**Part A** - Import the file \"CatData.csv\" and preprocess it to remove any null values"
      ],
      "metadata": {
        "id": "b4s-pN4v6kgb"
      }
    },
    {
      "cell_type": "code",
      "source": [
        "import pandas as df\n",
        "import matplotlib.pyplot as plt\n",
        "import numpy as np\n",
        "from  sklearn import linear_model\n",
        "pd=df.read_csv(\"CatData.csv\")\n",
        "var1=len(pd.index)\n",
        "print(\" number of rows before processing : \",var1)\n",
        "var2=pd.dropna()\n",
        "var3=len(var2.index)\n",
        "print(\"number of rows after processing :\",var3)\n",
        "num=int(len(pd)*0.8)\n",
        "train=pd[:num]\n",
        "tests=pd[num:]\n",
        "print(len(pd))\n",
        "print(\"training set\",len(train))\n",
        "print(\"testing set\",len(tests))\n",
        "\n",
        "regrsion=linear_model.LinearRegression()\n",
        "trainx=np.array(train[['Tail Length (cm)']])\n",
        "trainy= np.array(train[['Mass (kg)']])\n",
        "regrsion.fit(trainx,trainy)\n",
        "coefficients = regrsion.coef_\n",
        "intercept =regrsion.intercept_\n",
        "print(\"slope :\",coefficients)\n",
        "print(\"intercepts\",intercept)\n",
        "plt.scatter(train['Tail Length (cm)'],train['Mass (kg)'])\n",
        "plt.plot(trainx,coefficients[0]*trainx+intercept,color=\"red\")\n",
        "plt.title(\"scatter plot\")\n",
        "plt.xlabel('Tail Length (cm)')\n",
        "plt.ylabel('Mass (kg)')\n",
        "plt.show()\n"
      ],
      "metadata": {
        "id": "mvZ3xrBV9b1s"
      },
      "execution_count": null,
      "outputs": []
    },
    {
      "cell_type": "markdown",
      "source": [
        "**Part B** - Identify the independant and dependant variables (comment answer below)"
      ],
      "metadata": {
        "id": "bWxuB3ep9SWA"
      }
    },
    {
      "cell_type": "code",
      "source": [
        "# dependant variable: \n",
        "# independant variable: "
      ],
      "metadata": {
        "id": "TS9tvuRt9cWr"
      },
      "execution_count": null,
      "outputs": []
    },
    {
      "cell_type": "markdown",
      "source": [
        "**Part C** - Create a linear regression model using sklearn and fit it to the data you just imported\n"
      ],
      "metadata": {
        "id": "xPHVA3cX7uk9"
      }
    },
    {
      "cell_type": "code",
      "source": [],
      "metadata": {
        "id": "WYVNRotH9cyo"
      },
      "execution_count": null,
      "outputs": []
    },
    {
      "cell_type": "markdown",
      "source": [
        "**Part D** - Print the values for slope and y-intercept"
      ],
      "metadata": {
        "id": "0QMipKhb830G"
      }
    },
    {
      "cell_type": "code",
      "source": [],
      "metadata": {
        "id": "R7cvi3KB9dJh"
      },
      "execution_count": null,
      "outputs": []
    },
    {
      "cell_type": "markdown",
      "source": [
        "**Part E** - Plot a scatter graph of the original data and a regression line on the same figure (example with dummy data shown below)\n",
        "\n",
        "![](https://drive.google.com/uc?export=view&id=1o_NAsNjfx7zAh9m-UjvWB3rta6uraKdY)"
      ],
      "metadata": {
        "id": "IIq-BQYp_i33"
      }
    },
    {
      "cell_type": "code",
      "source": [],
      "metadata": {
        "id": "jhz8gTYt_lCn"
      },
      "execution_count": null,
      "outputs": []
    }
  ]
}